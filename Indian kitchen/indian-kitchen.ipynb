{
 "cells": [
  {
   "cell_type": "code",
   "execution_count": 1,
   "metadata": {
    "_cell_guid": "b1076dfc-b9ad-4769-8c92-a6c4dae69d19",
    "_uuid": "8f2839f25d086af736a60e9eeb907d3b93b6e0e5",
    "execution": {
     "iopub.execute_input": "2020-12-25T18:46:30.656852Z",
     "iopub.status.busy": "2020-12-25T18:46:30.656203Z",
     "iopub.status.idle": "2020-12-25T18:46:30.677990Z",
     "shell.execute_reply": "2020-12-25T18:46:30.676696Z"
    },
    "papermill": {
     "duration": 0.052363,
     "end_time": "2020-12-25T18:46:30.678189",
     "exception": false,
     "start_time": "2020-12-25T18:46:30.625826",
     "status": "completed"
    },
    "tags": []
   },
   "outputs": [
    {
     "name": "stdout",
     "output_type": "stream",
     "text": [
      "/kaggle/input/indian-food-101/indian_food.csv\n"
     ]
    }
   ],
   "source": [
    "# This Python 3 environment comes with many helpful analytics libraries installed\n",
    "# It is defined by the kaggle/python Docker image: https://github.com/kaggle/docker-python\n",
    "# For example, here's several helpful packages to load\n",
    "\n",
    "import numpy as np\n",
    "import pandas as pd\n",
    "import matplotlib.pyplot as plt\n",
    "import pylab as pl\n",
    "\n",
    "import os\n",
    "for dirname, _, filenames in os.walk('/kaggle/input'):\n",
    "    for filename in filenames:\n",
    "        print(os.path.join(dirname, filename))\n"
   ]
  },
  {
   "cell_type": "markdown",
   "metadata": {
    "papermill": {
     "duration": 0.021133,
     "end_time": "2020-12-25T18:46:30.722295",
     "exception": false,
     "start_time": "2020-12-25T18:46:30.701162",
     "status": "completed"
    },
    "tags": []
   },
   "source": [
    "# Получаем данные:"
   ]
  },
  {
   "cell_type": "code",
   "execution_count": 2,
   "metadata": {
    "_cell_guid": "79c7e3d0-c299-4dcb-8224-4455121ee9b0",
    "_uuid": "d629ff2d2480ee46fbb7e2d37f6b5fab8052498a",
    "execution": {
     "iopub.execute_input": "2020-12-25T18:46:30.772530Z",
     "iopub.status.busy": "2020-12-25T18:46:30.771834Z",
     "iopub.status.idle": "2020-12-25T18:46:30.824014Z",
     "shell.execute_reply": "2020-12-25T18:46:30.823341Z"
    },
    "papermill": {
     "duration": 0.080856,
     "end_time": "2020-12-25T18:46:30.824135",
     "exception": false,
     "start_time": "2020-12-25T18:46:30.743279",
     "status": "completed"
    },
    "tags": []
   },
   "outputs": [
    {
     "data": {
      "text/html": [
       "<div>\n",
       "<style scoped>\n",
       "    .dataframe tbody tr th:only-of-type {\n",
       "        vertical-align: middle;\n",
       "    }\n",
       "\n",
       "    .dataframe tbody tr th {\n",
       "        vertical-align: top;\n",
       "    }\n",
       "\n",
       "    .dataframe thead th {\n",
       "        text-align: right;\n",
       "    }\n",
       "</style>\n",
       "<table border=\"1\" class=\"dataframe\">\n",
       "  <thead>\n",
       "    <tr style=\"text-align: right;\">\n",
       "      <th></th>\n",
       "      <th>name</th>\n",
       "      <th>ingredients</th>\n",
       "      <th>diet</th>\n",
       "      <th>prep_time</th>\n",
       "      <th>cook_time</th>\n",
       "      <th>flavor_profile</th>\n",
       "      <th>course</th>\n",
       "      <th>state</th>\n",
       "      <th>region</th>\n",
       "    </tr>\n",
       "  </thead>\n",
       "  <tbody>\n",
       "    <tr>\n",
       "      <th>0</th>\n",
       "      <td>Balu shahi</td>\n",
       "      <td>Maida flour, yogurt, oil, sugar</td>\n",
       "      <td>vegetarian</td>\n",
       "      <td>45</td>\n",
       "      <td>25</td>\n",
       "      <td>sweet</td>\n",
       "      <td>dessert</td>\n",
       "      <td>West Bengal</td>\n",
       "      <td>East</td>\n",
       "    </tr>\n",
       "    <tr>\n",
       "      <th>1</th>\n",
       "      <td>Boondi</td>\n",
       "      <td>Gram flour, ghee, sugar</td>\n",
       "      <td>vegetarian</td>\n",
       "      <td>80</td>\n",
       "      <td>30</td>\n",
       "      <td>sweet</td>\n",
       "      <td>dessert</td>\n",
       "      <td>Rajasthan</td>\n",
       "      <td>West</td>\n",
       "    </tr>\n",
       "    <tr>\n",
       "      <th>2</th>\n",
       "      <td>Gajar ka halwa</td>\n",
       "      <td>Carrots, milk, sugar, ghee, cashews, raisins</td>\n",
       "      <td>vegetarian</td>\n",
       "      <td>15</td>\n",
       "      <td>60</td>\n",
       "      <td>sweet</td>\n",
       "      <td>dessert</td>\n",
       "      <td>Punjab</td>\n",
       "      <td>North</td>\n",
       "    </tr>\n",
       "    <tr>\n",
       "      <th>3</th>\n",
       "      <td>Ghevar</td>\n",
       "      <td>Flour, ghee, kewra, milk, clarified butter, su...</td>\n",
       "      <td>vegetarian</td>\n",
       "      <td>15</td>\n",
       "      <td>30</td>\n",
       "      <td>sweet</td>\n",
       "      <td>dessert</td>\n",
       "      <td>Rajasthan</td>\n",
       "      <td>West</td>\n",
       "    </tr>\n",
       "    <tr>\n",
       "      <th>4</th>\n",
       "      <td>Gulab jamun</td>\n",
       "      <td>Milk powder, plain flour, baking powder, ghee,...</td>\n",
       "      <td>vegetarian</td>\n",
       "      <td>15</td>\n",
       "      <td>40</td>\n",
       "      <td>sweet</td>\n",
       "      <td>dessert</td>\n",
       "      <td>West Bengal</td>\n",
       "      <td>East</td>\n",
       "    </tr>\n",
       "    <tr>\n",
       "      <th>...</th>\n",
       "      <td>...</td>\n",
       "      <td>...</td>\n",
       "      <td>...</td>\n",
       "      <td>...</td>\n",
       "      <td>...</td>\n",
       "      <td>...</td>\n",
       "      <td>...</td>\n",
       "      <td>...</td>\n",
       "      <td>...</td>\n",
       "    </tr>\n",
       "    <tr>\n",
       "      <th>250</th>\n",
       "      <td>Til Pitha</td>\n",
       "      <td>Glutinous rice, black sesame seeds, gur</td>\n",
       "      <td>vegetarian</td>\n",
       "      <td>5</td>\n",
       "      <td>30</td>\n",
       "      <td>sweet</td>\n",
       "      <td>dessert</td>\n",
       "      <td>Assam</td>\n",
       "      <td>North East</td>\n",
       "    </tr>\n",
       "    <tr>\n",
       "      <th>251</th>\n",
       "      <td>Bebinca</td>\n",
       "      <td>Coconut milk, egg yolks, clarified butter, all...</td>\n",
       "      <td>vegetarian</td>\n",
       "      <td>20</td>\n",
       "      <td>60</td>\n",
       "      <td>sweet</td>\n",
       "      <td>dessert</td>\n",
       "      <td>Goa</td>\n",
       "      <td>West</td>\n",
       "    </tr>\n",
       "    <tr>\n",
       "      <th>252</th>\n",
       "      <td>Shufta</td>\n",
       "      <td>Cottage cheese, dry dates, dried rose petals, ...</td>\n",
       "      <td>vegetarian</td>\n",
       "      <td>-1</td>\n",
       "      <td>-1</td>\n",
       "      <td>sweet</td>\n",
       "      <td>dessert</td>\n",
       "      <td>Jammu &amp; Kashmir</td>\n",
       "      <td>North</td>\n",
       "    </tr>\n",
       "    <tr>\n",
       "      <th>253</th>\n",
       "      <td>Mawa Bati</td>\n",
       "      <td>Milk powder, dry fruits, arrowroot powder, all...</td>\n",
       "      <td>vegetarian</td>\n",
       "      <td>20</td>\n",
       "      <td>45</td>\n",
       "      <td>sweet</td>\n",
       "      <td>dessert</td>\n",
       "      <td>Madhya Pradesh</td>\n",
       "      <td>Central</td>\n",
       "    </tr>\n",
       "    <tr>\n",
       "      <th>254</th>\n",
       "      <td>Pinaca</td>\n",
       "      <td>Brown rice, fennel seeds, grated coconut, blac...</td>\n",
       "      <td>vegetarian</td>\n",
       "      <td>-1</td>\n",
       "      <td>-1</td>\n",
       "      <td>sweet</td>\n",
       "      <td>dessert</td>\n",
       "      <td>Goa</td>\n",
       "      <td>West</td>\n",
       "    </tr>\n",
       "  </tbody>\n",
       "</table>\n",
       "<p>255 rows × 9 columns</p>\n",
       "</div>"
      ],
      "text/plain": [
       "               name                                        ingredients  \\\n",
       "0        Balu shahi                    Maida flour, yogurt, oil, sugar   \n",
       "1            Boondi                            Gram flour, ghee, sugar   \n",
       "2    Gajar ka halwa       Carrots, milk, sugar, ghee, cashews, raisins   \n",
       "3            Ghevar  Flour, ghee, kewra, milk, clarified butter, su...   \n",
       "4       Gulab jamun  Milk powder, plain flour, baking powder, ghee,...   \n",
       "..              ...                                                ...   \n",
       "250       Til Pitha            Glutinous rice, black sesame seeds, gur   \n",
       "251         Bebinca  Coconut milk, egg yolks, clarified butter, all...   \n",
       "252          Shufta  Cottage cheese, dry dates, dried rose petals, ...   \n",
       "253       Mawa Bati  Milk powder, dry fruits, arrowroot powder, all...   \n",
       "254          Pinaca  Brown rice, fennel seeds, grated coconut, blac...   \n",
       "\n",
       "           diet  prep_time  cook_time flavor_profile   course  \\\n",
       "0    vegetarian         45         25          sweet  dessert   \n",
       "1    vegetarian         80         30          sweet  dessert   \n",
       "2    vegetarian         15         60          sweet  dessert   \n",
       "3    vegetarian         15         30          sweet  dessert   \n",
       "4    vegetarian         15         40          sweet  dessert   \n",
       "..          ...        ...        ...            ...      ...   \n",
       "250  vegetarian          5         30          sweet  dessert   \n",
       "251  vegetarian         20         60          sweet  dessert   \n",
       "252  vegetarian         -1         -1          sweet  dessert   \n",
       "253  vegetarian         20         45          sweet  dessert   \n",
       "254  vegetarian         -1         -1          sweet  dessert   \n",
       "\n",
       "               state      region  \n",
       "0        West Bengal        East  \n",
       "1          Rajasthan        West  \n",
       "2             Punjab       North  \n",
       "3          Rajasthan        West  \n",
       "4        West Bengal        East  \n",
       "..               ...         ...  \n",
       "250            Assam  North East  \n",
       "251              Goa        West  \n",
       "252  Jammu & Kashmir       North  \n",
       "253   Madhya Pradesh     Central  \n",
       "254              Goa        West  \n",
       "\n",
       "[255 rows x 9 columns]"
      ]
     },
     "execution_count": 2,
     "metadata": {},
     "output_type": "execute_result"
    }
   ],
   "source": [
    "df = pd.read_csv('/kaggle/input/indian-food-101/indian_food.csv')\n",
    "df"
   ]
  },
  {
   "cell_type": "markdown",
   "metadata": {
    "papermill": {
     "duration": 0.021501,
     "end_time": "2020-12-25T18:46:30.867806",
     "exception": false,
     "start_time": "2020-12-25T18:46:30.846305",
     "status": "completed"
    },
    "tags": []
   },
   "source": [
    "* prep_time - время подготовки\n",
    "* cook_time - время готовки"
   ]
  },
  {
   "cell_type": "code",
   "execution_count": 3,
   "metadata": {
    "execution": {
     "iopub.execute_input": "2020-12-25T18:46:30.923797Z",
     "iopub.status.busy": "2020-12-25T18:46:30.923134Z",
     "iopub.status.idle": "2020-12-25T18:46:30.939642Z",
     "shell.execute_reply": "2020-12-25T18:46:30.938982Z"
    },
    "papermill": {
     "duration": 0.049567,
     "end_time": "2020-12-25T18:46:30.939756",
     "exception": false,
     "start_time": "2020-12-25T18:46:30.890189",
     "status": "completed"
    },
    "tags": []
   },
   "outputs": [
    {
     "data": {
      "text/html": [
       "<div>\n",
       "<style scoped>\n",
       "    .dataframe tbody tr th:only-of-type {\n",
       "        vertical-align: middle;\n",
       "    }\n",
       "\n",
       "    .dataframe tbody tr th {\n",
       "        vertical-align: top;\n",
       "    }\n",
       "\n",
       "    .dataframe thead th {\n",
       "        text-align: right;\n",
       "    }\n",
       "</style>\n",
       "<table border=\"1\" class=\"dataframe\">\n",
       "  <thead>\n",
       "    <tr style=\"text-align: right;\">\n",
       "      <th></th>\n",
       "      <th>prep_time</th>\n",
       "      <th>cook_time</th>\n",
       "    </tr>\n",
       "  </thead>\n",
       "  <tbody>\n",
       "    <tr>\n",
       "      <th>count</th>\n",
       "      <td>255.000000</td>\n",
       "      <td>255.000000</td>\n",
       "    </tr>\n",
       "    <tr>\n",
       "      <th>mean</th>\n",
       "      <td>31.105882</td>\n",
       "      <td>34.529412</td>\n",
       "    </tr>\n",
       "    <tr>\n",
       "      <th>std</th>\n",
       "      <td>72.554409</td>\n",
       "      <td>48.265650</td>\n",
       "    </tr>\n",
       "    <tr>\n",
       "      <th>min</th>\n",
       "      <td>-1.000000</td>\n",
       "      <td>-1.000000</td>\n",
       "    </tr>\n",
       "    <tr>\n",
       "      <th>25%</th>\n",
       "      <td>10.000000</td>\n",
       "      <td>20.000000</td>\n",
       "    </tr>\n",
       "    <tr>\n",
       "      <th>50%</th>\n",
       "      <td>10.000000</td>\n",
       "      <td>30.000000</td>\n",
       "    </tr>\n",
       "    <tr>\n",
       "      <th>75%</th>\n",
       "      <td>20.000000</td>\n",
       "      <td>40.000000</td>\n",
       "    </tr>\n",
       "    <tr>\n",
       "      <th>max</th>\n",
       "      <td>500.000000</td>\n",
       "      <td>720.000000</td>\n",
       "    </tr>\n",
       "  </tbody>\n",
       "</table>\n",
       "</div>"
      ],
      "text/plain": [
       "        prep_time   cook_time\n",
       "count  255.000000  255.000000\n",
       "mean    31.105882   34.529412\n",
       "std     72.554409   48.265650\n",
       "min     -1.000000   -1.000000\n",
       "25%     10.000000   20.000000\n",
       "50%     10.000000   30.000000\n",
       "75%     20.000000   40.000000\n",
       "max    500.000000  720.000000"
      ]
     },
     "execution_count": 3,
     "metadata": {},
     "output_type": "execute_result"
    }
   ],
   "source": [
    "df.describe()"
   ]
  },
  {
   "cell_type": "markdown",
   "metadata": {
    "papermill": {
     "duration": 0.022005,
     "end_time": "2020-12-25T18:46:30.985478",
     "exception": false,
     "start_time": "2020-12-25T18:46:30.963473",
     "status": "completed"
    },
    "tags": []
   },
   "source": [
    "# Какие есть диеты:"
   ]
  },
  {
   "cell_type": "code",
   "execution_count": 4,
   "metadata": {
    "execution": {
     "iopub.execute_input": "2020-12-25T18:46:31.038324Z",
     "iopub.status.busy": "2020-12-25T18:46:31.037273Z",
     "iopub.status.idle": "2020-12-25T18:46:31.042575Z",
     "shell.execute_reply": "2020-12-25T18:46:31.041667Z"
    },
    "papermill": {
     "duration": 0.035113,
     "end_time": "2020-12-25T18:46:31.042742",
     "exception": false,
     "start_time": "2020-12-25T18:46:31.007629",
     "status": "completed"
    },
    "tags": []
   },
   "outputs": [
    {
     "data": {
      "text/plain": [
       "array(['vegetarian', 'non vegetarian'], dtype=object)"
      ]
     },
     "execution_count": 4,
     "metadata": {},
     "output_type": "execute_result"
    }
   ],
   "source": [
    "df.diet.unique()"
   ]
  },
  {
   "cell_type": "markdown",
   "metadata": {
    "papermill": {
     "duration": 0.022722,
     "end_time": "2020-12-25T18:46:31.091770",
     "exception": false,
     "start_time": "2020-12-25T18:46:31.069048",
     "status": "completed"
    },
    "tags": []
   },
   "source": [
    "# Какие есть вкусы:"
   ]
  },
  {
   "cell_type": "code",
   "execution_count": 5,
   "metadata": {
    "execution": {
     "iopub.execute_input": "2020-12-25T18:46:31.144233Z",
     "iopub.status.busy": "2020-12-25T18:46:31.143449Z",
     "iopub.status.idle": "2020-12-25T18:46:31.147765Z",
     "shell.execute_reply": "2020-12-25T18:46:31.147075Z"
    },
    "papermill": {
     "duration": 0.03337,
     "end_time": "2020-12-25T18:46:31.147905",
     "exception": false,
     "start_time": "2020-12-25T18:46:31.114535",
     "status": "completed"
    },
    "tags": []
   },
   "outputs": [
    {
     "data": {
      "text/plain": [
       "array(['sweet', 'spicy', 'bitter', '-1', 'sour'], dtype=object)"
      ]
     },
     "execution_count": 5,
     "metadata": {},
     "output_type": "execute_result"
    }
   ],
   "source": [
    "df.flavor_profile.unique()"
   ]
  },
  {
   "cell_type": "markdown",
   "metadata": {
    "papermill": {
     "duration": 0.023809,
     "end_time": "2020-12-25T18:46:31.195490",
     "exception": false,
     "start_time": "2020-12-25T18:46:31.171681",
     "status": "completed"
    },
    "tags": []
   },
   "source": [
    "# Типы блюд:"
   ]
  },
  {
   "cell_type": "code",
   "execution_count": 6,
   "metadata": {
    "execution": {
     "iopub.execute_input": "2020-12-25T18:46:31.246601Z",
     "iopub.status.busy": "2020-12-25T18:46:31.245937Z",
     "iopub.status.idle": "2020-12-25T18:46:31.254124Z",
     "shell.execute_reply": "2020-12-25T18:46:31.253594Z"
    },
    "papermill": {
     "duration": 0.03501,
     "end_time": "2020-12-25T18:46:31.254239",
     "exception": false,
     "start_time": "2020-12-25T18:46:31.219229",
     "status": "completed"
    },
    "tags": []
   },
   "outputs": [
    {
     "data": {
      "text/plain": [
       "array(['dessert', 'main course', 'starter', 'snack'], dtype=object)"
      ]
     },
     "execution_count": 6,
     "metadata": {},
     "output_type": "execute_result"
    }
   ],
   "source": [
    "df.course.unique()"
   ]
  },
  {
   "cell_type": "markdown",
   "metadata": {
    "papermill": {
     "duration": 0.024273,
     "end_time": "2020-12-25T18:46:31.302512",
     "exception": false,
     "start_time": "2020-12-25T18:46:31.278239",
     "status": "completed"
    },
    "tags": []
   },
   "source": [
    "# Регионы:"
   ]
  },
  {
   "cell_type": "code",
   "execution_count": 7,
   "metadata": {
    "execution": {
     "iopub.execute_input": "2020-12-25T18:46:31.360312Z",
     "iopub.status.busy": "2020-12-25T18:46:31.359426Z",
     "iopub.status.idle": "2020-12-25T18:46:31.364891Z",
     "shell.execute_reply": "2020-12-25T18:46:31.364300Z"
    },
    "papermill": {
     "duration": 0.03837,
     "end_time": "2020-12-25T18:46:31.365013",
     "exception": false,
     "start_time": "2020-12-25T18:46:31.326643",
     "status": "completed"
    },
    "tags": []
   },
   "outputs": [
    {
     "data": {
      "text/plain": [
       "array(['East', 'West', 'North', '-1', 'North East', 'South', 'Central',\n",
       "       nan], dtype=object)"
      ]
     },
     "execution_count": 7,
     "metadata": {},
     "output_type": "execute_result"
    }
   ],
   "source": [
    "df.region.unique()"
   ]
  },
  {
   "cell_type": "markdown",
   "metadata": {
    "papermill": {
     "duration": 0.024033,
     "end_time": "2020-12-25T18:46:31.413438",
     "exception": false,
     "start_time": "2020-12-25T18:46:31.389405",
     "status": "completed"
    },
    "tags": []
   },
   "source": [
    "# Удаляем строки где есть плохие значения:"
   ]
  },
  {
   "cell_type": "code",
   "execution_count": 8,
   "metadata": {
    "execution": {
     "iopub.execute_input": "2020-12-25T18:46:31.473290Z",
     "iopub.status.busy": "2020-12-25T18:46:31.472624Z",
     "iopub.status.idle": "2020-12-25T18:46:31.522695Z",
     "shell.execute_reply": "2020-12-25T18:46:31.523223Z"
    },
    "papermill": {
     "duration": 0.085112,
     "end_time": "2020-12-25T18:46:31.523368",
     "exception": false,
     "start_time": "2020-12-25T18:46:31.438256",
     "status": "completed"
    },
    "tags": []
   },
   "outputs": [
    {
     "data": {
      "text/html": [
       "<div>\n",
       "<style scoped>\n",
       "    .dataframe tbody tr th:only-of-type {\n",
       "        vertical-align: middle;\n",
       "    }\n",
       "\n",
       "    .dataframe tbody tr th {\n",
       "        vertical-align: top;\n",
       "    }\n",
       "\n",
       "    .dataframe thead th {\n",
       "        text-align: right;\n",
       "    }\n",
       "</style>\n",
       "<table border=\"1\" class=\"dataframe\">\n",
       "  <thead>\n",
       "    <tr style=\"text-align: right;\">\n",
       "      <th></th>\n",
       "      <th>name</th>\n",
       "      <th>ingredients</th>\n",
       "      <th>diet</th>\n",
       "      <th>prep_time</th>\n",
       "      <th>cook_time</th>\n",
       "      <th>flavor_profile</th>\n",
       "      <th>course</th>\n",
       "      <th>state</th>\n",
       "      <th>region</th>\n",
       "    </tr>\n",
       "  </thead>\n",
       "  <tbody>\n",
       "    <tr>\n",
       "      <th>0</th>\n",
       "      <td>Balu shahi</td>\n",
       "      <td>Maida flour, yogurt, oil, sugar</td>\n",
       "      <td>vegetarian</td>\n",
       "      <td>45</td>\n",
       "      <td>25</td>\n",
       "      <td>sweet</td>\n",
       "      <td>dessert</td>\n",
       "      <td>West Bengal</td>\n",
       "      <td>East</td>\n",
       "    </tr>\n",
       "    <tr>\n",
       "      <th>1</th>\n",
       "      <td>Boondi</td>\n",
       "      <td>Gram flour, ghee, sugar</td>\n",
       "      <td>vegetarian</td>\n",
       "      <td>80</td>\n",
       "      <td>30</td>\n",
       "      <td>sweet</td>\n",
       "      <td>dessert</td>\n",
       "      <td>Rajasthan</td>\n",
       "      <td>West</td>\n",
       "    </tr>\n",
       "    <tr>\n",
       "      <th>2</th>\n",
       "      <td>Gajar ka halwa</td>\n",
       "      <td>Carrots, milk, sugar, ghee, cashews, raisins</td>\n",
       "      <td>vegetarian</td>\n",
       "      <td>15</td>\n",
       "      <td>60</td>\n",
       "      <td>sweet</td>\n",
       "      <td>dessert</td>\n",
       "      <td>Punjab</td>\n",
       "      <td>North</td>\n",
       "    </tr>\n",
       "    <tr>\n",
       "      <th>3</th>\n",
       "      <td>Ghevar</td>\n",
       "      <td>Flour, ghee, kewra, milk, clarified butter, su...</td>\n",
       "      <td>vegetarian</td>\n",
       "      <td>15</td>\n",
       "      <td>30</td>\n",
       "      <td>sweet</td>\n",
       "      <td>dessert</td>\n",
       "      <td>Rajasthan</td>\n",
       "      <td>West</td>\n",
       "    </tr>\n",
       "    <tr>\n",
       "      <th>4</th>\n",
       "      <td>Gulab jamun</td>\n",
       "      <td>Milk powder, plain flour, baking powder, ghee,...</td>\n",
       "      <td>vegetarian</td>\n",
       "      <td>15</td>\n",
       "      <td>40</td>\n",
       "      <td>sweet</td>\n",
       "      <td>dessert</td>\n",
       "      <td>West Bengal</td>\n",
       "      <td>East</td>\n",
       "    </tr>\n",
       "    <tr>\n",
       "      <th>...</th>\n",
       "      <td>...</td>\n",
       "      <td>...</td>\n",
       "      <td>...</td>\n",
       "      <td>...</td>\n",
       "      <td>...</td>\n",
       "      <td>...</td>\n",
       "      <td>...</td>\n",
       "      <td>...</td>\n",
       "      <td>...</td>\n",
       "    </tr>\n",
       "    <tr>\n",
       "      <th>247</th>\n",
       "      <td>Prawn malai curry</td>\n",
       "      <td>Coconut milk, prawns, garlic, turmeric, sugar</td>\n",
       "      <td>non vegetarian</td>\n",
       "      <td>15</td>\n",
       "      <td>50</td>\n",
       "      <td>spicy</td>\n",
       "      <td>main course</td>\n",
       "      <td>West Bengal</td>\n",
       "      <td>East</td>\n",
       "    </tr>\n",
       "    <tr>\n",
       "      <th>249</th>\n",
       "      <td>Shukto</td>\n",
       "      <td>Green beans, bitter gourd, ridge gourd, banana...</td>\n",
       "      <td>vegetarian</td>\n",
       "      <td>10</td>\n",
       "      <td>20</td>\n",
       "      <td>spicy</td>\n",
       "      <td>main course</td>\n",
       "      <td>West Bengal</td>\n",
       "      <td>East</td>\n",
       "    </tr>\n",
       "    <tr>\n",
       "      <th>250</th>\n",
       "      <td>Til Pitha</td>\n",
       "      <td>Glutinous rice, black sesame seeds, gur</td>\n",
       "      <td>vegetarian</td>\n",
       "      <td>5</td>\n",
       "      <td>30</td>\n",
       "      <td>sweet</td>\n",
       "      <td>dessert</td>\n",
       "      <td>Assam</td>\n",
       "      <td>North East</td>\n",
       "    </tr>\n",
       "    <tr>\n",
       "      <th>251</th>\n",
       "      <td>Bebinca</td>\n",
       "      <td>Coconut milk, egg yolks, clarified butter, all...</td>\n",
       "      <td>vegetarian</td>\n",
       "      <td>20</td>\n",
       "      <td>60</td>\n",
       "      <td>sweet</td>\n",
       "      <td>dessert</td>\n",
       "      <td>Goa</td>\n",
       "      <td>West</td>\n",
       "    </tr>\n",
       "    <tr>\n",
       "      <th>253</th>\n",
       "      <td>Mawa Bati</td>\n",
       "      <td>Milk powder, dry fruits, arrowroot powder, all...</td>\n",
       "      <td>vegetarian</td>\n",
       "      <td>20</td>\n",
       "      <td>45</td>\n",
       "      <td>sweet</td>\n",
       "      <td>dessert</td>\n",
       "      <td>Madhya Pradesh</td>\n",
       "      <td>Central</td>\n",
       "    </tr>\n",
       "  </tbody>\n",
       "</table>\n",
       "<p>189 rows × 9 columns</p>\n",
       "</div>"
      ],
      "text/plain": [
       "                  name                                        ingredients  \\\n",
       "0           Balu shahi                    Maida flour, yogurt, oil, sugar   \n",
       "1               Boondi                            Gram flour, ghee, sugar   \n",
       "2       Gajar ka halwa       Carrots, milk, sugar, ghee, cashews, raisins   \n",
       "3               Ghevar  Flour, ghee, kewra, milk, clarified butter, su...   \n",
       "4          Gulab jamun  Milk powder, plain flour, baking powder, ghee,...   \n",
       "..                 ...                                                ...   \n",
       "247  Prawn malai curry      Coconut milk, prawns, garlic, turmeric, sugar   \n",
       "249             Shukto  Green beans, bitter gourd, ridge gourd, banana...   \n",
       "250          Til Pitha            Glutinous rice, black sesame seeds, gur   \n",
       "251            Bebinca  Coconut milk, egg yolks, clarified butter, all...   \n",
       "253          Mawa Bati  Milk powder, dry fruits, arrowroot powder, all...   \n",
       "\n",
       "               diet  prep_time  cook_time flavor_profile       course  \\\n",
       "0        vegetarian         45         25          sweet      dessert   \n",
       "1        vegetarian         80         30          sweet      dessert   \n",
       "2        vegetarian         15         60          sweet      dessert   \n",
       "3        vegetarian         15         30          sweet      dessert   \n",
       "4        vegetarian         15         40          sweet      dessert   \n",
       "..              ...        ...        ...            ...          ...   \n",
       "247  non vegetarian         15         50          spicy  main course   \n",
       "249      vegetarian         10         20          spicy  main course   \n",
       "250      vegetarian          5         30          sweet      dessert   \n",
       "251      vegetarian         20         60          sweet      dessert   \n",
       "253      vegetarian         20         45          sweet      dessert   \n",
       "\n",
       "              state      region  \n",
       "0       West Bengal        East  \n",
       "1         Rajasthan        West  \n",
       "2            Punjab       North  \n",
       "3         Rajasthan        West  \n",
       "4       West Bengal        East  \n",
       "..              ...         ...  \n",
       "247     West Bengal        East  \n",
       "249     West Bengal        East  \n",
       "250           Assam  North East  \n",
       "251             Goa        West  \n",
       "253  Madhya Pradesh     Central  \n",
       "\n",
       "[189 rows x 9 columns]"
      ]
     },
     "execution_count": 8,
     "metadata": {},
     "output_type": "execute_result"
    }
   ],
   "source": [
    "df = df.drop(df[df.flavor_profile == '-1'].index)\n",
    "df = df.drop(df[df.prep_time == -1].index)\n",
    "df = df.drop(df[df.cook_time == -1].index)\n",
    "df = df.drop(df[df.region == '-1'].index)\n",
    "df = df.dropna()\n",
    "df"
   ]
  },
  {
   "cell_type": "markdown",
   "metadata": {
    "papermill": {
     "duration": 0.025068,
     "end_time": "2020-12-25T18:46:31.573509",
     "exception": false,
     "start_time": "2020-12-25T18:46:31.548441",
     "status": "completed"
    },
    "tags": []
   },
   "source": [
    "# Выбираем данные:"
   ]
  },
  {
   "cell_type": "code",
   "execution_count": 9,
   "metadata": {
    "execution": {
     "iopub.execute_input": "2020-12-25T18:46:31.629415Z",
     "iopub.status.busy": "2020-12-25T18:46:31.628663Z",
     "iopub.status.idle": "2020-12-25T18:46:31.659884Z",
     "shell.execute_reply": "2020-12-25T18:46:31.660408Z"
    },
    "papermill": {
     "duration": 0.06064,
     "end_time": "2020-12-25T18:46:31.660604",
     "exception": false,
     "start_time": "2020-12-25T18:46:31.599964",
     "status": "completed"
    },
    "tags": []
   },
   "outputs": [
    {
     "data": {
      "text/html": [
       "<div>\n",
       "<style scoped>\n",
       "    .dataframe tbody tr th:only-of-type {\n",
       "        vertical-align: middle;\n",
       "    }\n",
       "\n",
       "    .dataframe tbody tr th {\n",
       "        vertical-align: top;\n",
       "    }\n",
       "\n",
       "    .dataframe thead th {\n",
       "        text-align: right;\n",
       "    }\n",
       "</style>\n",
       "<table border=\"1\" class=\"dataframe\">\n",
       "  <thead>\n",
       "    <tr style=\"text-align: right;\">\n",
       "      <th></th>\n",
       "      <th>prep_time</th>\n",
       "      <th>cook_time</th>\n",
       "      <th>region</th>\n",
       "      <th>name</th>\n",
       "      <th>diet_non vegetarian</th>\n",
       "      <th>diet_vegetarian</th>\n",
       "      <th>flavor_profile_bitter</th>\n",
       "      <th>flavor_profile_sour</th>\n",
       "      <th>flavor_profile_spicy</th>\n",
       "      <th>flavor_profile_sweet</th>\n",
       "      <th>course_dessert</th>\n",
       "      <th>course_main course</th>\n",
       "      <th>course_snack</th>\n",
       "      <th>course_starter</th>\n",
       "    </tr>\n",
       "  </thead>\n",
       "  <tbody>\n",
       "    <tr>\n",
       "      <th>0</th>\n",
       "      <td>45</td>\n",
       "      <td>25</td>\n",
       "      <td>East</td>\n",
       "      <td>Balu shahi</td>\n",
       "      <td>0</td>\n",
       "      <td>1</td>\n",
       "      <td>0</td>\n",
       "      <td>0</td>\n",
       "      <td>0</td>\n",
       "      <td>1</td>\n",
       "      <td>1</td>\n",
       "      <td>0</td>\n",
       "      <td>0</td>\n",
       "      <td>0</td>\n",
       "    </tr>\n",
       "    <tr>\n",
       "      <th>1</th>\n",
       "      <td>80</td>\n",
       "      <td>30</td>\n",
       "      <td>West</td>\n",
       "      <td>Boondi</td>\n",
       "      <td>0</td>\n",
       "      <td>1</td>\n",
       "      <td>0</td>\n",
       "      <td>0</td>\n",
       "      <td>0</td>\n",
       "      <td>1</td>\n",
       "      <td>1</td>\n",
       "      <td>0</td>\n",
       "      <td>0</td>\n",
       "      <td>0</td>\n",
       "    </tr>\n",
       "    <tr>\n",
       "      <th>2</th>\n",
       "      <td>15</td>\n",
       "      <td>60</td>\n",
       "      <td>North</td>\n",
       "      <td>Gajar ka halwa</td>\n",
       "      <td>0</td>\n",
       "      <td>1</td>\n",
       "      <td>0</td>\n",
       "      <td>0</td>\n",
       "      <td>0</td>\n",
       "      <td>1</td>\n",
       "      <td>1</td>\n",
       "      <td>0</td>\n",
       "      <td>0</td>\n",
       "      <td>0</td>\n",
       "    </tr>\n",
       "    <tr>\n",
       "      <th>3</th>\n",
       "      <td>15</td>\n",
       "      <td>30</td>\n",
       "      <td>West</td>\n",
       "      <td>Ghevar</td>\n",
       "      <td>0</td>\n",
       "      <td>1</td>\n",
       "      <td>0</td>\n",
       "      <td>0</td>\n",
       "      <td>0</td>\n",
       "      <td>1</td>\n",
       "      <td>1</td>\n",
       "      <td>0</td>\n",
       "      <td>0</td>\n",
       "      <td>0</td>\n",
       "    </tr>\n",
       "    <tr>\n",
       "      <th>4</th>\n",
       "      <td>15</td>\n",
       "      <td>40</td>\n",
       "      <td>East</td>\n",
       "      <td>Gulab jamun</td>\n",
       "      <td>0</td>\n",
       "      <td>1</td>\n",
       "      <td>0</td>\n",
       "      <td>0</td>\n",
       "      <td>0</td>\n",
       "      <td>1</td>\n",
       "      <td>1</td>\n",
       "      <td>0</td>\n",
       "      <td>0</td>\n",
       "      <td>0</td>\n",
       "    </tr>\n",
       "    <tr>\n",
       "      <th>...</th>\n",
       "      <td>...</td>\n",
       "      <td>...</td>\n",
       "      <td>...</td>\n",
       "      <td>...</td>\n",
       "      <td>...</td>\n",
       "      <td>...</td>\n",
       "      <td>...</td>\n",
       "      <td>...</td>\n",
       "      <td>...</td>\n",
       "      <td>...</td>\n",
       "      <td>...</td>\n",
       "      <td>...</td>\n",
       "      <td>...</td>\n",
       "      <td>...</td>\n",
       "    </tr>\n",
       "    <tr>\n",
       "      <th>247</th>\n",
       "      <td>15</td>\n",
       "      <td>50</td>\n",
       "      <td>East</td>\n",
       "      <td>Prawn malai curry</td>\n",
       "      <td>1</td>\n",
       "      <td>0</td>\n",
       "      <td>0</td>\n",
       "      <td>0</td>\n",
       "      <td>1</td>\n",
       "      <td>0</td>\n",
       "      <td>0</td>\n",
       "      <td>1</td>\n",
       "      <td>0</td>\n",
       "      <td>0</td>\n",
       "    </tr>\n",
       "    <tr>\n",
       "      <th>249</th>\n",
       "      <td>10</td>\n",
       "      <td>20</td>\n",
       "      <td>East</td>\n",
       "      <td>Shukto</td>\n",
       "      <td>0</td>\n",
       "      <td>1</td>\n",
       "      <td>0</td>\n",
       "      <td>0</td>\n",
       "      <td>1</td>\n",
       "      <td>0</td>\n",
       "      <td>0</td>\n",
       "      <td>1</td>\n",
       "      <td>0</td>\n",
       "      <td>0</td>\n",
       "    </tr>\n",
       "    <tr>\n",
       "      <th>250</th>\n",
       "      <td>5</td>\n",
       "      <td>30</td>\n",
       "      <td>North East</td>\n",
       "      <td>Til Pitha</td>\n",
       "      <td>0</td>\n",
       "      <td>1</td>\n",
       "      <td>0</td>\n",
       "      <td>0</td>\n",
       "      <td>0</td>\n",
       "      <td>1</td>\n",
       "      <td>1</td>\n",
       "      <td>0</td>\n",
       "      <td>0</td>\n",
       "      <td>0</td>\n",
       "    </tr>\n",
       "    <tr>\n",
       "      <th>251</th>\n",
       "      <td>20</td>\n",
       "      <td>60</td>\n",
       "      <td>West</td>\n",
       "      <td>Bebinca</td>\n",
       "      <td>0</td>\n",
       "      <td>1</td>\n",
       "      <td>0</td>\n",
       "      <td>0</td>\n",
       "      <td>0</td>\n",
       "      <td>1</td>\n",
       "      <td>1</td>\n",
       "      <td>0</td>\n",
       "      <td>0</td>\n",
       "      <td>0</td>\n",
       "    </tr>\n",
       "    <tr>\n",
       "      <th>253</th>\n",
       "      <td>20</td>\n",
       "      <td>45</td>\n",
       "      <td>Central</td>\n",
       "      <td>Mawa Bati</td>\n",
       "      <td>0</td>\n",
       "      <td>1</td>\n",
       "      <td>0</td>\n",
       "      <td>0</td>\n",
       "      <td>0</td>\n",
       "      <td>1</td>\n",
       "      <td>1</td>\n",
       "      <td>0</td>\n",
       "      <td>0</td>\n",
       "      <td>0</td>\n",
       "    </tr>\n",
       "  </tbody>\n",
       "</table>\n",
       "<p>189 rows × 14 columns</p>\n",
       "</div>"
      ],
      "text/plain": [
       "     prep_time  cook_time      region               name  diet_non vegetarian  \\\n",
       "0           45         25        East         Balu shahi                    0   \n",
       "1           80         30        West             Boondi                    0   \n",
       "2           15         60       North     Gajar ka halwa                    0   \n",
       "3           15         30        West             Ghevar                    0   \n",
       "4           15         40        East        Gulab jamun                    0   \n",
       "..         ...        ...         ...                ...                  ...   \n",
       "247         15         50        East  Prawn malai curry                    1   \n",
       "249         10         20        East             Shukto                    0   \n",
       "250          5         30  North East          Til Pitha                    0   \n",
       "251         20         60        West            Bebinca                    0   \n",
       "253         20         45     Central          Mawa Bati                    0   \n",
       "\n",
       "     diet_vegetarian  flavor_profile_bitter  flavor_profile_sour  \\\n",
       "0                  1                      0                    0   \n",
       "1                  1                      0                    0   \n",
       "2                  1                      0                    0   \n",
       "3                  1                      0                    0   \n",
       "4                  1                      0                    0   \n",
       "..               ...                    ...                  ...   \n",
       "247                0                      0                    0   \n",
       "249                1                      0                    0   \n",
       "250                1                      0                    0   \n",
       "251                1                      0                    0   \n",
       "253                1                      0                    0   \n",
       "\n",
       "     flavor_profile_spicy  flavor_profile_sweet  course_dessert  \\\n",
       "0                       0                     1               1   \n",
       "1                       0                     1               1   \n",
       "2                       0                     1               1   \n",
       "3                       0                     1               1   \n",
       "4                       0                     1               1   \n",
       "..                    ...                   ...             ...   \n",
       "247                     1                     0               0   \n",
       "249                     1                     0               0   \n",
       "250                     0                     1               1   \n",
       "251                     0                     1               1   \n",
       "253                     0                     1               1   \n",
       "\n",
       "     course_main course  course_snack  course_starter  \n",
       "0                     0             0               0  \n",
       "1                     0             0               0  \n",
       "2                     0             0               0  \n",
       "3                     0             0               0  \n",
       "4                     0             0               0  \n",
       "..                  ...           ...             ...  \n",
       "247                   1             0               0  \n",
       "249                   1             0               0  \n",
       "250                   0             0               0  \n",
       "251                   0             0               0  \n",
       "253                   0             0               0  \n",
       "\n",
       "[189 rows x 14 columns]"
      ]
     },
     "execution_count": 9,
     "metadata": {},
     "output_type": "execute_result"
    }
   ],
   "source": [
    "cdf = df[['diet', 'prep_time', 'cook_time', 'flavor_profile', 'course', 'region', 'name']]\n",
    "cdf = pd.get_dummies(cdf, columns=['diet', 'flavor_profile', 'course'])\n",
    "cdf"
   ]
  },
  {
   "cell_type": "code",
   "execution_count": 10,
   "metadata": {
    "execution": {
     "iopub.execute_input": "2020-12-25T18:46:31.723157Z",
     "iopub.status.busy": "2020-12-25T18:46:31.722234Z",
     "iopub.status.idle": "2020-12-25T18:46:32.187799Z",
     "shell.execute_reply": "2020-12-25T18:46:32.187086Z"
    },
    "papermill": {
     "duration": 0.50021,
     "end_time": "2020-12-25T18:46:32.187947",
     "exception": false,
     "start_time": "2020-12-25T18:46:31.687737",
     "status": "completed"
    },
    "tags": []
   },
   "outputs": [
    {
     "data": {
      "image/png": "[encoded data removed]",
      "text/plain": [
       "<Figure size 432x288 with 2 Axes>"
      ]
     },
     "metadata": {
      "needs_background": "light"
     },
     "output_type": "display_data"
    }
   ],
   "source": [
    "viz = cdf[['prep_time', 'cook_time']]\n",
    "viz.hist()\n",
    "plt.show()"
   ]
  },
  {
   "cell_type": "code",
   "execution_count": 11,
   "metadata": {
    "execution": {
     "iopub.execute_input": "2020-12-25T18:46:32.253298Z",
     "iopub.status.busy": "2020-12-25T18:46:32.252566Z",
     "iopub.status.idle": "2020-12-25T18:46:32.430135Z",
     "shell.execute_reply": "2020-12-25T18:46:32.429497Z"
    },
    "papermill": {
     "duration": 0.212516,
     "end_time": "2020-12-25T18:46:32.430283",
     "exception": false,
     "start_time": "2020-12-25T18:46:32.217767",
     "status": "completed"
    },
    "tags": []
   },
   "outputs": [
    {
     "data": {
      "image/png": "[encoded data removed]",
      "text/plain": [
       "<Figure size 432x288 with 1 Axes>"
      ]
     },
     "metadata": {
      "needs_background": "light"
     },
     "output_type": "display_data"
    }
   ],
   "source": [
    "plt.scatter(cdf.prep_time, cdf.cook_time, color='blue')\n",
    "plt.xlabel('prep_time')\n",
    "plt.ylabel('cook_time')\n",
    "plt.show()"
   ]
  },
  {
   "cell_type": "markdown",
   "metadata": {
    "papermill": {
     "duration": 0.028049,
     "end_time": "2020-12-25T18:46:32.487840",
     "exception": false,
     "start_time": "2020-12-25T18:46:32.459791",
     "status": "completed"
    },
    "tags": []
   },
   "source": [
    "# Подготовка данных к обучению и тестированию модели:"
   ]
  },
  {
   "cell_type": "code",
   "execution_count": 12,
   "metadata": {
    "execution": {
     "iopub.execute_input": "2020-12-25T18:46:32.552615Z",
     "iopub.status.busy": "2020-12-25T18:46:32.551621Z",
     "iopub.status.idle": "2020-12-25T18:46:32.555643Z",
     "shell.execute_reply": "2020-12-25T18:46:32.554999Z"
    },
    "papermill": {
     "duration": 0.039653,
     "end_time": "2020-12-25T18:46:32.555773",
     "exception": false,
     "start_time": "2020-12-25T18:46:32.516120",
     "status": "completed"
    },
    "tags": []
   },
   "outputs": [],
   "source": [
    "msk = np.random.rand(len(df)) < 0.8\n",
    "train = cdf[msk]\n",
    "test = cdf[~msk]"
   ]
  },
  {
   "cell_type": "code",
   "execution_count": 13,
   "metadata": {
    "execution": {
     "iopub.execute_input": "2020-12-25T18:46:32.619086Z",
     "iopub.status.busy": "2020-12-25T18:46:32.618357Z",
     "iopub.status.idle": "2020-12-25T18:46:33.983080Z",
     "shell.execute_reply": "2020-12-25T18:46:33.982401Z"
    },
    "papermill": {
     "duration": 1.399076,
     "end_time": "2020-12-25T18:46:33.983222",
     "exception": false,
     "start_time": "2020-12-25T18:46:32.584146",
     "status": "completed"
    },
    "tags": []
   },
   "outputs": [],
   "source": [
    "from sklearn.ensemble import RandomForestClassifier\n",
    "model = RandomForestClassifier()\n",
    "\n",
    "X = train.drop(['region', 'name'], axis=1)\n",
    "y = train[['region', 'name']]"
   ]
  },
  {
   "cell_type": "markdown",
   "metadata": {
    "papermill": {
     "duration": 0.028895,
     "end_time": "2020-12-25T18:46:34.041599",
     "exception": false,
     "start_time": "2020-12-25T18:46:34.012704",
     "status": "completed"
    },
    "tags": []
   },
   "source": [
    "# Обучение модели:"
   ]
  },
  {
   "cell_type": "code",
   "execution_count": 14,
   "metadata": {
    "execution": {
     "iopub.execute_input": "2020-12-25T18:46:34.119080Z",
     "iopub.status.busy": "2020-12-25T18:46:34.109769Z",
     "iopub.status.idle": "2020-12-25T18:46:34.380948Z",
     "shell.execute_reply": "2020-12-25T18:46:34.380258Z"
    },
    "papermill": {
     "duration": 0.310585,
     "end_time": "2020-12-25T18:46:34.381081",
     "exception": false,
     "start_time": "2020-12-25T18:46:34.070496",
     "status": "completed"
    },
    "tags": []
   },
   "outputs": [
    {
     "data": {
      "text/plain": [
       "RandomForestClassifier()"
      ]
     },
     "execution_count": 14,
     "metadata": {},
     "output_type": "execute_result"
    }
   ],
   "source": [
    "model.fit(X, y)"
   ]
  },
  {
   "cell_type": "markdown",
   "metadata": {
    "papermill": {
     "duration": 0.028448,
     "end_time": "2020-12-25T18:46:34.438923",
     "exception": false,
     "start_time": "2020-12-25T18:46:34.410475",
     "status": "completed"
    },
    "tags": []
   },
   "source": [
    "# Тренировка модели:"
   ]
  },
  {
   "cell_type": "code",
   "execution_count": 15,
   "metadata": {
    "execution": {
     "iopub.execute_input": "2020-12-25T18:46:34.508250Z",
     "iopub.status.busy": "2020-12-25T18:46:34.507424Z",
     "iopub.status.idle": "2020-12-25T18:46:34.547356Z",
     "shell.execute_reply": "2020-12-25T18:46:34.546717Z"
    },
    "papermill": {
     "duration": 0.080013,
     "end_time": "2020-12-25T18:46:34.547478",
     "exception": false,
     "start_time": "2020-12-25T18:46:34.467465",
     "status": "completed"
    },
    "tags": []
   },
   "outputs": [
    {
     "data": {
      "text/plain": [
       "array([['East', 'Balu shahi'],\n",
       "       ['West', 'Boondi'],\n",
       "       ['East', 'Mihidana'],\n",
       "       ['East', 'Gulab jamun'],\n",
       "       ['West', 'Imarti'],\n",
       "       ['West', 'Imarti'],\n",
       "       ['East', 'Kalakand'],\n",
       "       ['North', 'Lassi'],\n",
       "       ['South', 'Gheela Pitha'],\n",
       "       ['East', 'Phirni'],\n",
       "       ['East', 'Chhena poda'],\n",
       "       ['West', 'Palathalikalu'],\n",
       "       ['South', 'Singori'],\n",
       "       ['West', 'Doodhpak'],\n",
       "       ['West', 'Imarti'],\n",
       "       ['East', 'Chhena poda'],\n",
       "       ['East', 'Cham cham'],\n",
       "       ['East', 'Kheer sagar'],\n",
       "       ['East', 'Ledikeni'],\n",
       "       ['East', 'Kalakand'],\n",
       "       ['North', 'Malapua'],\n",
       "       ['East', 'Mihidana'],\n",
       "       ['North East', 'Pithe'],\n",
       "       ['East', 'Mihidana'],\n",
       "       ['East', 'Rasgulla'],\n",
       "       ['South', 'Bandar laddu'],\n",
       "       ['East', 'Kalakand'],\n",
       "       ['South', 'Gheela Pitha'],\n",
       "       ['South', 'Singori'],\n",
       "       ['South', 'Obbattu holige'],\n",
       "       ['West', 'Palathalikalu'],\n",
       "       ['South', 'Poornalu'],\n",
       "       ['South', 'Pongal'],\n",
       "       ['South', 'Singori'],\n",
       "       ['South', 'Singori'],\n",
       "       ['South', 'Kajjikaya'],\n",
       "       ['West', 'Imarti'],\n",
       "       ['West', 'Shankarpali'],\n",
       "       ['West', 'Imarti'],\n",
       "       ['West', 'Doodhpak'],\n",
       "       ['West', 'Palathalikalu'],\n",
       "       ['West', 'Shankarpali'],\n",
       "       ['West', 'Shrikhand'],\n",
       "       ['West', 'Sutar feni'],\n",
       "       ['North East', 'Chak Hao Kheer'],\n",
       "       ['North East', 'Galho'],\n",
       "       ['South', 'Keerai sadam'],\n",
       "       ['North', 'Aloo tikki'],\n",
       "       ['North', 'Aloo methi'],\n",
       "       ['North', 'Aloo shimla mirch'],\n",
       "       ['North', 'Bhatura'],\n",
       "       ['North', 'Sev tameta'],\n",
       "       ['South', 'Biryani'],\n",
       "       ['South', 'Chicken Varuval'],\n",
       "       ['North', 'Sev tameta'],\n",
       "       ['North', 'Chicken Tikka'],\n",
       "       ['North', 'Sev tameta'],\n",
       "       ['West', 'Daal baati churma'],\n",
       "       ['East', 'Daal puri'],\n",
       "       ['North', 'Dal makhani '],\n",
       "       ['North', 'Mushroom do pyaza'],\n",
       "       ['North', 'Dum aloo'],\n",
       "       ['West', 'Handwo'],\n",
       "       ['Central', 'Fara'],\n",
       "       ['North', 'Kachori'],\n",
       "       ['North', 'Sev tameta'],\n",
       "       ['North', 'Kadhi pakoda'],\n",
       "       ['North', 'Karela bharta'],\n",
       "       ['North', 'Paneer tikka masala'],\n",
       "       ['North', 'Paneer tikka masala'],\n",
       "       ['North', 'Litti chokha'],\n",
       "       ['North', 'Makki di roti sarson da saag'],\n",
       "       ['North', 'Mushroom do pyaza'],\n",
       "       ['North', 'Mushroom do pyaza'],\n",
       "       ['North', 'Navrattan korma'],\n",
       "       ['North', 'Paneer tikka masala'],\n",
       "       ['North', 'Paneer tikka masala'],\n",
       "       ['North', 'Paneer tikka masala'],\n",
       "       ['North', 'Paratha'],\n",
       "       ['North', 'Mushroom do pyaza'],\n",
       "       ['North', 'Pindi chana'],\n",
       "       ['North', 'Rajma chaval'],\n",
       "       ['South', 'Gheela Pitha'],\n",
       "       ['North', 'Tandoori Fish Tikka'],\n",
       "       ['South', 'Attu'],\n",
       "       ['South', 'Avial'],\n",
       "       ['South', 'Avial'],\n",
       "       ['South', 'Keerai sadam'],\n",
       "       ['South', 'Idli'],\n",
       "       ['South', 'Idli'],\n",
       "       ['North', 'Sev tameta'],\n",
       "       ['South', 'Keerai sadam'],\n",
       "       ['North', 'Sev tameta'],\n",
       "       ['South', 'Beef Fry'],\n",
       "       ['South', 'Kootu'],\n",
       "       ['South', 'Keerai sadam'],\n",
       "       ['South', 'Keerai sadam'],\n",
       "       ['South', 'Kuzhambu'],\n",
       "       ['South', 'Papadum'],\n",
       "       ['South', 'Pesarattu'],\n",
       "       ['South', 'Rasam'],\n",
       "       ['South', 'Sambar'],\n",
       "       ['West', 'Khaman'],\n",
       "       ['South', 'Vada'],\n",
       "       ['South', 'Chicken Varuval'],\n",
       "       ['West', 'Amti'],\n",
       "       ['West', 'Zunka'],\n",
       "       ['North', 'Paneer tikka masala'],\n",
       "       ['West', 'Bajri no rotlo'],\n",
       "       ['West', 'Chakali'],\n",
       "       ['West', 'Handwo'],\n",
       "       ['West', 'Chorafali'],\n",
       "       ['North', 'Sev tameta'],\n",
       "       ['West', 'Kutchi dabeli'],\n",
       "       ['West', 'Khaman'],\n",
       "       ['South', 'Singori'],\n",
       "       ['West', 'Handwo'],\n",
       "       ['West', 'Keri no ras'],\n",
       "       ['West', 'Khakhra'],\n",
       "       ['West', 'Kombdi vade'],\n",
       "       ['North', 'Aloo shimla mirch'],\n",
       "       ['West', 'Bajri no rotlo'],\n",
       "       ['West', 'Methi na Gota'],\n",
       "       ['West', 'Mohanthal'],\n",
       "       ['West', 'Muthiya'],\n",
       "       ['West', 'Chakali'],\n",
       "       ['North', 'Paneer tikka masala'],\n",
       "       ['North', 'Mushroom do pyaza'],\n",
       "       ['West', 'Sabudana Khichadi'],\n",
       "       ['North', 'Sev tameta'],\n",
       "       ['West', 'Namakpara'],\n",
       "       ['South', 'Singori'],\n",
       "       ['West', 'Surnoli'],\n",
       "       ['North', 'Makki di roti sarson da saag'],\n",
       "       ['West', 'Undhiyu'],\n",
       "       ['North', 'Sev tameta'],\n",
       "       ['West', 'Vindaloo'],\n",
       "       ['West', 'Lilva Kachori'],\n",
       "       ['West', 'Khichu'],\n",
       "       ['West', 'Thepla'],\n",
       "       ['West', 'Khaman'],\n",
       "       ['West', 'Turiya Patra Vatana sabji'],\n",
       "       ['West', 'Churma Ladoo'],\n",
       "       ['South', 'Gheela Pitha'],\n",
       "       ['North East', 'Alu Pitika'],\n",
       "       ['North East', 'Masor tenga'],\n",
       "       ['West', 'Vindaloo'],\n",
       "       ['North East', 'Haq Maas'],\n",
       "       ['East', 'Mishti Chholar Dal'],\n",
       "       ['South', 'Keerai sadam'],\n",
       "       ['North East', 'Til Pitha'],\n",
       "       ['West', 'Bebinca'],\n",
       "       ['Central', 'Mawa Bati']], dtype=object)"
      ]
     },
     "execution_count": 15,
     "metadata": {},
     "output_type": "execute_result"
    }
   ],
   "source": [
    "from sklearn.metrics import r2_score\n",
    "\n",
    "test_X = train.drop(['region', 'name'], axis=1)\n",
    "test_y = train[['region', 'name']]\n",
    "result = model.predict(test_X)\n",
    "\n",
    "result"
   ]
  },
  {
   "cell_type": "markdown",
   "metadata": {
    "papermill": {
     "duration": 0.028947,
     "end_time": "2020-12-25T18:46:34.606194",
     "exception": false,
     "start_time": "2020-12-25T18:46:34.577247",
     "status": "completed"
    },
    "tags": []
   },
   "source": [
    "# Для примера создаю словарь с ключами колонками и значениями = 0:"
   ]
  },
  {
   "cell_type": "code",
   "execution_count": 16,
   "metadata": {
    "execution": {
     "iopub.execute_input": "2020-12-25T18:46:34.672568Z",
     "iopub.status.busy": "2020-12-25T18:46:34.671845Z",
     "iopub.status.idle": "2020-12-25T18:46:34.674571Z",
     "shell.execute_reply": "2020-12-25T18:46:34.675099Z"
    },
    "papermill": {
     "duration": 0.039884,
     "end_time": "2020-12-25T18:46:34.675279",
     "exception": false,
     "start_time": "2020-12-25T18:46:34.635395",
     "status": "completed"
    },
    "tags": []
   },
   "outputs": [
    {
     "data": {
      "text/plain": [
       "{'prep_time': [0],\n",
       " 'cook_time': [0],\n",
       " 'diet_non vegetarian': [0],\n",
       " 'diet_vegetarian': [0],\n",
       " 'flavor_profile_bitter': [0],\n",
       " 'flavor_profile_sour': [0],\n",
       " 'flavor_profile_spicy': [0],\n",
       " 'flavor_profile_sweet': [0],\n",
       " 'course_dessert': [0],\n",
       " 'course_main course': [0],\n",
       " 'course_snack': [0],\n",
       " 'course_starter': [0]}"
      ]
     },
     "execution_count": 16,
     "metadata": {},
     "output_type": "execute_result"
    }
   ],
   "source": [
    "{ col:[0] for col in X.columns }"
   ]
  },
  {
   "cell_type": "markdown",
   "metadata": {
    "papermill": {
     "duration": 0.030242,
     "end_time": "2020-12-25T18:46:34.736010",
     "exception": false,
     "start_time": "2020-12-25T18:46:34.705768",
     "status": "completed"
    },
    "tags": []
   },
   "source": [
    "# Задаю параметры:"
   ]
  },
  {
   "cell_type": "code",
   "execution_count": 17,
   "metadata": {
    "execution": {
     "iopub.execute_input": "2020-12-25T18:46:34.802173Z",
     "iopub.status.busy": "2020-12-25T18:46:34.801401Z",
     "iopub.status.idle": "2020-12-25T18:46:34.807943Z",
     "shell.execute_reply": "2020-12-25T18:46:34.808561Z"
    },
    "papermill": {
     "duration": 0.042525,
     "end_time": "2020-12-25T18:46:34.808733",
     "exception": false,
     "start_time": "2020-12-25T18:46:34.766208",
     "status": "completed"
    },
    "tags": []
   },
   "outputs": [],
   "source": [
    "example = {\n",
    "    'prep_time': [17],\n",
    "    'cook_time': [70],\n",
    "    'diet_non vegetarian': [1],\n",
    "    'diet_vegetarian': [0],\n",
    "    'flavor_profile_bitter': [0],\n",
    "    'flavor_profile_sour': [0],\n",
    "    'flavor_profile_spicy': [1],\n",
    "    'flavor_profile_sweet': [0],\n",
    "    'course_dessert': [0],\n",
    "    'course_main course': [0],\n",
    "    'course_snack': [1],\n",
    "    'course_starter': [0]\n",
    "}"
   ]
  },
  {
   "cell_type": "markdown",
   "metadata": {
    "papermill": {
     "duration": 0.030711,
     "end_time": "2020-12-25T18:46:34.871164",
     "exception": false,
     "start_time": "2020-12-25T18:46:34.840453",
     "status": "completed"
    },
    "tags": []
   },
   "source": [
    "# Получаю предсказание:"
   ]
  },
  {
   "cell_type": "code",
   "execution_count": 18,
   "metadata": {
    "execution": {
     "iopub.execute_input": "2020-12-25T18:46:34.936169Z",
     "iopub.status.busy": "2020-12-25T18:46:34.935485Z",
     "iopub.status.idle": "2020-12-25T18:46:34.955475Z",
     "shell.execute_reply": "2020-12-25T18:46:34.956082Z"
    },
    "papermill": {
     "duration": 0.054726,
     "end_time": "2020-12-25T18:46:34.956251",
     "exception": false,
     "start_time": "2020-12-25T18:46:34.901525",
     "status": "completed"
    },
    "tags": []
   },
   "outputs": [
    {
     "data": {
      "text/plain": [
       "array([['North', 'Fara']], dtype=object)"
      ]
     },
     "execution_count": 18,
     "metadata": {},
     "output_type": "execute_result"
    }
   ],
   "source": [
    "example_df = pd.DataFrame(example)\n",
    "model.predict(example_df)"
   ]
  },
  {
   "cell_type": "code",
   "execution_count": 19,
   "metadata": {
    "execution": {
     "iopub.execute_input": "2020-12-25T18:46:35.022080Z",
     "iopub.status.busy": "2020-12-25T18:46:35.021392Z",
     "iopub.status.idle": "2020-12-25T18:46:35.042914Z",
     "shell.execute_reply": "2020-12-25T18:46:35.043401Z"
    },
    "papermill": {
     "duration": 0.056108,
     "end_time": "2020-12-25T18:46:35.043571",
     "exception": false,
     "start_time": "2020-12-25T18:46:34.987463",
     "status": "completed"
    },
    "tags": []
   },
   "outputs": [
    {
     "data": {
      "text/plain": [
       "[array([[0.28      , 0.01714286, 0.31666667, 0.1       , 0.14333333,\n",
       "         0.14285714]]),\n",
       " array([[0.        , 0.        , 0.        , 0.        , 0.        ,\n",
       "         0.        , 0.        , 0.        , 0.        , 0.        ,\n",
       "         0.        , 0.        , 0.        , 0.        , 0.09      ,\n",
       "         0.        , 0.        , 0.        , 0.        , 0.        ,\n",
       "         0.00666667, 0.        , 0.025     , 0.        , 0.        ,\n",
       "         0.008     , 0.        , 0.        , 0.15      , 0.00333333,\n",
       "         0.01714286, 0.        , 0.        , 0.        , 0.        ,\n",
       "         0.        , 0.        , 0.        , 0.        , 0.        ,\n",
       "         0.        , 0.        , 0.        , 0.01      , 0.        ,\n",
       "         0.        , 0.28      , 0.        , 0.        , 0.        ,\n",
       "         0.        , 0.        , 0.006     , 0.06      , 0.01      ,\n",
       "         0.        , 0.        , 0.1       , 0.        , 0.        ,\n",
       "         0.        , 0.        , 0.        , 0.        , 0.        ,\n",
       "         0.        , 0.        , 0.        , 0.06      , 0.        ,\n",
       "         0.        , 0.        , 0.        , 0.        , 0.        ,\n",
       "         0.        , 0.        , 0.        , 0.        , 0.        ,\n",
       "         0.        , 0.        , 0.        , 0.        , 0.        ,\n",
       "         0.        , 0.        , 0.        , 0.        , 0.        ,\n",
       "         0.        , 0.04      , 0.        , 0.        , 0.        ,\n",
       "         0.        , 0.        , 0.        , 0.        , 0.        ,\n",
       "         0.        , 0.        , 0.        , 0.        , 0.        ,\n",
       "         0.        , 0.        , 0.        , 0.        , 0.005     ,\n",
       "         0.        , 0.        , 0.        , 0.        , 0.        ,\n",
       "         0.        , 0.        , 0.006     , 0.        , 0.        ,\n",
       "         0.        , 0.        , 0.        , 0.        , 0.        ,\n",
       "         0.        , 0.        , 0.        , 0.        , 0.        ,\n",
       "         0.        , 0.        , 0.        , 0.        , 0.        ,\n",
       "         0.        , 0.        , 0.        , 0.        , 0.        ,\n",
       "         0.        , 0.06      , 0.        , 0.02      , 0.        ,\n",
       "         0.        , 0.01      , 0.        , 0.        , 0.03      ,\n",
       "         0.        , 0.00285714, 0.        ]])]"
      ]
     },
     "execution_count": 19,
     "metadata": {},
     "output_type": "execute_result"
    }
   ],
   "source": [
    "model.predict_proba(example_df)"
   ]
  },
  {
   "cell_type": "code",
   "execution_count": 20,
   "metadata": {
    "execution": {
     "iopub.execute_input": "2020-12-25T18:46:35.109956Z",
     "iopub.status.busy": "2020-12-25T18:46:35.109254Z",
     "iopub.status.idle": "2020-12-25T18:46:35.115511Z",
     "shell.execute_reply": "2020-12-25T18:46:35.116145Z"
    },
    "papermill": {
     "duration": 0.041511,
     "end_time": "2020-12-25T18:46:35.116291",
     "exception": false,
     "start_time": "2020-12-25T18:46:35.074780",
     "status": "completed"
    },
    "tags": []
   },
   "outputs": [
    {
     "data": {
      "text/plain": [
       "[array(['Central', 'East', 'North', 'North East', 'South', 'West'],\n",
       "       dtype=object),\n",
       " array(['Aloo gobi', 'Aloo methi', 'Aloo shimla mirch', 'Aloo tikki',\n",
       "        'Alu Pitika', 'Amti', 'Anarsa', 'Attu', 'Avial', 'Bajri no rotlo',\n",
       "        'Balu shahi', 'Bandar laddu', 'Basundi', 'Bebinca', 'Beef Fry',\n",
       "        'Bhatura', 'Bhindi masala', 'Biryani', 'Bisi bele bath', 'Boondi',\n",
       "        'Butter chicken', 'Chak Hao Kheer', 'Chakali', 'Cham cham',\n",
       "        'Chana masala', 'Chevdo', 'Chhena jalebi', 'Chhena poda',\n",
       "        'Chicken Tikka', 'Chicken Varuval', 'Chingri malai curry',\n",
       "        'Chole bhature', 'Chorafali', 'Churma Ladoo',\n",
       "        'Currivepillai sadam ', 'Daal Dhokli', 'Daal baati churma',\n",
       "        'Daal puri', 'Dal makhani ', 'Dal tadka', 'Dhokla', 'Dhondas',\n",
       "        'Doodhpak', 'Dosa', 'Double ka meetha', 'Dum aloo', 'Fara',\n",
       "        'Galho', 'Gheela Pitha', 'Ghevar', 'Gud papdi', 'Gulab jamun',\n",
       "        'Handwo', 'Haq Maas', 'Idli', 'Imarti', 'Jalebi', 'Kachori',\n",
       "        'Kadai paneer', 'Kadhi pakoda', 'Kajjikaya', 'Kakinada khaja',\n",
       "        'Kalakand', 'Karela bharta', 'Keerai kootu', 'Keerai poriyal',\n",
       "        'Keerai sadam', 'Keri no ras', 'Khakhra', 'Khaman', 'Kheer sagar',\n",
       "        'Khichu', 'Kofta', 'Kombdi vade', 'Kootu', 'Kos kootu',\n",
       "        'Koshimbir', 'Kothamali sadam', 'Kutchi dabeli', 'Kuzhambu',\n",
       "        'Kuzhi paniyaram', 'Laapsi', 'Lassi', 'Lauki ke kofte', 'Ledikeni',\n",
       "        'Lilva Kachori', 'Litti chokha', 'Lyangcha', 'Mahim halwa',\n",
       "        'Makki di roti sarson da saag', 'Malapua', 'Masor tenga',\n",
       "        'Mawa Bati', 'Methi na Gota', 'Mihidana', 'Mishti Chholar Dal',\n",
       "        'Mohanthal', 'Mushroom do pyaza', 'Mushroom matar', 'Muthiya',\n",
       "        'Namakpara', 'Navrattan korma', 'Obbattu holige', 'Palak paneer',\n",
       "        'Palathalikalu', 'Paneer butter masala', 'Paneer tikka masala',\n",
       "        'Papadum', 'Paratha', 'Patra', 'Pattor', 'Pav Bhaji', 'Pesarattu',\n",
       "        'Petha', 'Phirni', 'Pindi chana', 'Pithe', 'Poha', 'Pongal',\n",
       "        'Poornalu', 'Puri Bhaji', 'Rabri', 'Rajma chaval', 'Rasabali',\n",
       "        'Rasam', 'Rasgulla', 'Saath', 'Sabudana Khichadi', 'Sambar',\n",
       "        'Sev tameta', 'Shahi tukra', 'Shankarpali', 'Sheer korma',\n",
       "        'Sheera', 'Shrikhand', 'Shukto', 'Singori', 'Sohan halwa',\n",
       "        'Sukhdi', 'Surnoli', 'Sutar feni', 'Tandoori Fish Tikka',\n",
       "        'Thalipeeth', 'Thepla', 'Til Pitha', 'Turiya Patra Vatana sabji',\n",
       "        'Undhiyu', 'Unni Appam', 'Uttapam', 'Vada', 'Veg Kolhapuri',\n",
       "        'Vindaloo', 'Zunka'], dtype=object)]"
      ]
     },
     "execution_count": 20,
     "metadata": {},
     "output_type": "execute_result"
    }
   ],
   "source": [
    "model.classes_"
   ]
  },
  {
   "cell_type": "code",
   "execution_count": 21,
   "metadata": {
    "execution": {
     "iopub.execute_input": "2020-12-25T18:46:35.186153Z",
     "iopub.status.busy": "2020-12-25T18:46:35.185440Z",
     "iopub.status.idle": "2020-12-25T18:46:35.189420Z",
     "shell.execute_reply": "2020-12-25T18:46:35.188798Z"
    },
    "papermill": {
     "duration": 0.040681,
     "end_time": "2020-12-25T18:46:35.189537",
     "exception": false,
     "start_time": "2020-12-25T18:46:35.148856",
     "status": "completed"
    },
    "tags": []
   },
   "outputs": [],
   "source": [
    "import pickle"
   ]
  },
  {
   "cell_type": "code",
   "execution_count": 22,
   "metadata": {
    "execution": {
     "iopub.execute_input": "2020-12-25T18:46:35.260537Z",
     "iopub.status.busy": "2020-12-25T18:46:35.259897Z",
     "iopub.status.idle": "2020-12-25T18:46:35.483064Z",
     "shell.execute_reply": "2020-12-25T18:46:35.482308Z"
    },
    "papermill": {
     "duration": 0.260523,
     "end_time": "2020-12-25T18:46:35.483198",
     "exception": false,
     "start_time": "2020-12-25T18:46:35.222675",
     "status": "completed"
    },
    "tags": []
   },
   "outputs": [],
   "source": [
    "filename = 'indian_kitchen.sav'\n",
    "pickle.dump(model, open(filename, 'wb'))"
   ]
  }
 ],
 "metadata": {
  "kernelspec": {
   "display_name": "Python 3",
   "language": "python",
   "name": "python3"
  },
  "language_info": {
   "codemirror_mode": {
    "name": "ipython",
    "version": 3
   },
   "file_extension": ".py",
   "mimetype": "text/x-python",
   "name": "python",
   "nbconvert_exporter": "python",
   "pygments_lexer": "ipython3",
   "version": "3.7.6"
  },
  "papermill": {
   "duration": 10.541036,
   "end_time": "2020-12-25T18:46:35.624644",
   "environment_variables": {},
   "exception": null,
   "input_path": "__notebook__.ipynb",
   "output_path": "__notebook__.ipynb",
   "parameters": {},
   "start_time": "2020-12-25T18:46:25.083608",
   "version": "2.1.0"
  }
 },
 "nbformat": 4,
 "nbformat_minor": 4
}
